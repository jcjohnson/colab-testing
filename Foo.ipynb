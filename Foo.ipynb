{
  "nbformat": 4,
  "nbformat_minor": 0,
  "metadata": {
    "colab": {
      "name": "Foo.ipynb",
      "version": "0.3.2",
      "provenance": []
    },
    "language_info": {
      "codemirror_mode": {
        "name": "ipython",
        "version": 3
      },
      "file_extension": ".py",
      "mimetype": "text/x-python",
      "name": "python",
      "nbconvert_exporter": "python",
      "pygments_lexer": "ipython3",
      "version": "3.7.3"
    },
    "kernelspec": {
      "display_name": "Python 3",
      "language": "python",
      "name": "python3"
    }
  },
  "cells": [
    {
      "cell_type": "markdown",
      "metadata": {
        "id": "omwtROsFjpSs",
        "colab_type": "text"
      },
      "source": [
        ""
      ]
    },
    {
      "cell_type": "code",
      "metadata": {
        "id": "xsYu6Lnsjjgz",
        "colab_type": "code",
        "colab": {}
      },
      "source": [
        "import torch"
      ],
      "execution_count": 0,
      "outputs": []
    },
    {
      "cell_type": "code",
      "metadata": {
        "id": "cxJYf9fljjg4",
        "colab_type": "code",
        "colab": {
          "base_uri": "https://localhost:8080/",
          "height": 68
        },
        "outputId": "27289fc7-25f9-4d95-9b79-3f2fd1197d42"
      },
      "source": [
        "x = torch.randn(3, 4)\n",
        "print(x)"
      ],
      "execution_count": 2,
      "outputs": [
        {
          "output_type": "stream",
          "text": [
            "tensor([[-0.9033,  1.0134, -0.1248, -1.5329],\n",
            "        [ 0.1452, -1.0852,  0.8320, -0.9458],\n",
            "        [-2.0548,  0.0927, -0.2581, -0.5315]])\n"
          ],
          "name": "stdout"
        }
      ]
    },
    {
      "cell_type": "code",
      "metadata": {
        "id": "Ickbflrqjzwb",
        "colab_type": "code",
        "colab": {
          "base_uri": "https://localhost:8080/",
          "height": 85
        },
        "outputId": "5232c349-4abd-48c8-8a4f-d77fc09f2d48"
      },
      "source": [
        "y = torch.randn(4, 5)\n",
        "print(y * y)"
      ],
      "execution_count": 3,
      "outputs": [
        {
          "output_type": "stream",
          "text": [
            "tensor([[5.0534e-01, 6.0670e-02, 5.9651e-01, 2.6603e-01, 2.1986e+00],\n",
            "        [4.3000e-01, 4.1628e-02, 2.2436e-01, 8.7601e-02, 1.7949e-02],\n",
            "        [1.1711e+00, 1.9449e-01, 1.9854e-01, 1.3592e-02, 3.3915e-01],\n",
            "        [3.7504e+00, 2.0086e-03, 1.0478e-01, 5.5594e-02, 2.9784e+00]])\n"
          ],
          "name": "stdout"
        }
      ]
    }
  ]
}