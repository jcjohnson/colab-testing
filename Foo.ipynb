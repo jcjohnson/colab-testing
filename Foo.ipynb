{
 "cells": [
  {
   "cell_type": "code",
   "execution_count": 1,
   "metadata": {
    "colab": {},
    "colab_type": "code",
    "id": "xsYu6Lnsjjgz"
   },
   "outputs": [
    {
     "name": "stdout",
     "output_type": "stream",
     "text": [
      "importing Jupyter notebook from Functions.ipynb\n"
     ]
    }
   ],
   "source": [
    "import torch\n",
    "import import_ipynb_jj\n",
    "from importlib import reload\n",
    "\n",
    "import Functions"
   ]
  },
  {
   "cell_type": "code",
   "execution_count": 2,
   "metadata": {
    "colab": {
     "base_uri": "https://localhost:8080/",
     "height": 68
    },
    "colab_type": "code",
    "id": "cxJYf9fljjg4",
    "outputId": "27289fc7-25f9-4d95-9b79-3f2fd1197d42"
   },
   "outputs": [
    {
     "name": "stdout",
     "output_type": "stream",
     "text": [
      "importing Jupyter notebook from Functions.ipynb\n",
      "v10\n",
      "tensor([[-0.1273,  0.2495, -0.3618, -0.1953],\n",
      "        [-0.8909, -1.0008,  0.9960,  1.5417],\n",
      "        [-0.3711, -0.0415,  0.2003,  0.0131]])\n"
     ]
    }
   ],
   "source": [
    "Functions = reload(Functions)\n",
    "\n",
    "x = torch.randn(3, 4)\n",
    "y = torch.randn(3, 4)\n",
    "\n",
    "z = Functions.mul_tensors(x, y)\n",
    "print(z)"
   ]
  },
  {
   "cell_type": "code",
   "execution_count": null,
   "metadata": {
    "colab": {
     "base_uri": "https://localhost:8080/",
     "height": 85
    },
    "colab_type": "code",
    "id": "Ickbflrqjzwb",
    "outputId": "5232c349-4abd-48c8-8a4f-d77fc09f2d48"
   },
   "outputs": [],
   "source": [
    "y = torch.randn(4, 5)\n",
    "print(y * y)"
   ]
  },
  {
   "cell_type": "code",
   "execution_count": null,
   "metadata": {},
   "outputs": [],
   "source": [
    "%aimport"
   ]
  }
 ],
 "metadata": {
  "colab": {
   "name": "Foo.ipynb",
   "provenance": [],
   "version": "0.3.2"
  },
  "kernelspec": {
   "display_name": "Python 3",
   "language": "python",
   "name": "python3"
  },
  "language_info": {
   "codemirror_mode": {
    "name": "ipython",
    "version": 3
   },
   "file_extension": ".py",
   "mimetype": "text/x-python",
   "name": "python",
   "nbconvert_exporter": "python",
   "pygments_lexer": "ipython3",
   "version": "3.7.3"
  }
 },
 "nbformat": 4,
 "nbformat_minor": 1
}
