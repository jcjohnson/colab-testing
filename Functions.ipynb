{
  "nbformat": 4,
  "nbformat_minor": 0,
  "metadata": {
    "colab": {
      "name": "Functions",
      "version": "0.3.2",
      "provenance": [],
      "include_colab_link": true
    },
    "kernelspec": {
      "name": "python3",
      "display_name": "Python 3"
    }
  },
  "cells": [
    {
      "cell_type": "markdown",
      "metadata": {
        "id": "view-in-github",
        "colab_type": "text"
      },
      "source": [
        "<a href=\"https://colab.research.google.com/github/jcjohnson/colab-testing/blob/master/Functions.ipynb\" target=\"_parent\"><img src=\"https://colab.research.google.com/assets/colab-badge.svg\" alt=\"Open In Colab\"/></a>"
      ]
    },
    {
      "cell_type": "code",
      "metadata": {
        "id": "4VC-5ER8kl62",
        "colab_type": "code",
        "colab": {}
      },
      "source": [
        "import torch"
      ],
      "execution_count": 0,
      "outputs": []
    },
    {
      "cell_type": "code",
      "metadata": {
        "id": "pWS-JBackqIQ",
        "colab_type": "code",
        "colab": {}
      },
      "source": [
        "def add_tensors(x, y):\n",
        "  return x + y"
      ],
      "execution_count": 0,
      "outputs": []
    },
    {
      "cell_type": "code",
      "metadata": {
        "id": "xxSqJsEakuV8",
        "colab_type": "code",
        "colab": {
          "base_uri": "https://localhost:8080/",
          "height": 68
        },
        "outputId": "70f6e36a-86d7-47e0-abfd-d82864873631"
      },
      "source": [
        "x = torch.randn(3, 4)\n",
        "y = torch.randn(3, 4)\n",
        "z = add_tensors(x, y)\n",
        "print(z)"
      ],
      "execution_count": 3,
      "outputs": [
        {
          "output_type": "stream",
          "text": [
            "tensor([[-1.6661, -1.2843,  4.2954,  0.5638],\n",
            "        [-0.0330, -0.6639, -2.2834, -1.2601],\n",
            "        [-0.5789,  1.8731, -0.4536,  2.1324]])\n"
          ],
          "name": "stdout"
        }
      ]
    }
  ]
}